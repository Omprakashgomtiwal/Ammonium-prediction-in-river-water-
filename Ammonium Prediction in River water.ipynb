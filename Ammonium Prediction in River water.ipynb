{
 "cells": [
  {
   "cell_type": "markdown",
   "id": "c922971e",
   "metadata": {},
   "source": [
    "## Problem Statement\n",
    "This case study is to predict the Ammonium in the river water in ukraine "
   ]
  },
  {
   "cell_type": "markdown",
   "id": "ed409705",
   "metadata": {},
   "source": [
    "## About to the data \n",
    "\n",
    "**Ammonium ions concentration is measured in mg/cub. dm (ie milligrams in the cubic decimeter)**\n",
    "\n",
    "**Id** - the unique id of a given monthly averaged data\n",
    "\n",
    "**target** - values of monthly averaged data of NH4 in target station, mg/cub. dm\n",
    "\n",
    "**1-7** - values of monthly averaged data of NH4 in stations 1-7 (located upstream) mg/cub. dm"
   ]
  },
  {
   "cell_type": "markdown",
   "id": "5874dc2d",
   "metadata": {},
   "source": [
    "# 1 Import Libraries "
   ]
  },
  {
   "cell_type": "code",
   "execution_count": 1,
   "id": "0fcc4843",
   "metadata": {},
   "outputs": [],
   "source": [
    "import pandas as pd \n",
    "import numpy as np \n",
    "import seaborn as sns \n",
    "import matplotlib.pyplot as plt\n",
    "\n",
    "from sklearn.model_selection import train_test_split,ShuffleSplit,GridSearchCV\n",
    "from sklearn.preprocessing import PowerTransformer\n",
    "\n",
    "from sklearn.linear_model import LinearRegression\n",
    "from sklearn.tree import DecisionTreeRegressor\n",
    "from sklearn.ensemble import RandomForestRegressor\n",
    "import xgboost as xgb\n",
    "from xgboost.sklearn import XGBRegressor\n",
    "from sklearn.svm import LinearSVR\n",
    "\n",
    "from sklearn.metrics import mean_squared_error,r2_score"
   ]
  },
  {
   "cell_type": "markdown",
   "id": "7bb4afd8",
   "metadata": {},
   "source": [
    "# 2 Read Data "
   ]
  },
  {
   "cell_type": "code",
   "execution_count": 2,
   "id": "e1669142",
   "metadata": {},
   "outputs": [
    {
     "data": {
      "text/html": [
       "<div>\n",
       "<style scoped>\n",
       "    .dataframe tbody tr th:only-of-type {\n",
       "        vertical-align: middle;\n",
       "    }\n",
       "\n",
       "    .dataframe tbody tr th {\n",
       "        vertical-align: top;\n",
       "    }\n",
       "\n",
       "    .dataframe thead th {\n",
       "        text-align: right;\n",
       "    }\n",
       "</style>\n",
       "<table border=\"1\" class=\"dataframe\">\n",
       "  <thead>\n",
       "    <tr style=\"text-align: right;\">\n",
       "      <th></th>\n",
       "      <th>Id</th>\n",
       "      <th>target</th>\n",
       "      <th>1</th>\n",
       "      <th>2</th>\n",
       "      <th>3</th>\n",
       "      <th>4</th>\n",
       "      <th>5</th>\n",
       "      <th>6</th>\n",
       "      <th>7</th>\n",
       "    </tr>\n",
       "  </thead>\n",
       "  <tbody>\n",
       "    <tr>\n",
       "      <th>0</th>\n",
       "      <td>0</td>\n",
       "      <td>1.10</td>\n",
       "      <td>0.69</td>\n",
       "      <td>1.04</td>\n",
       "      <td>NaN</td>\n",
       "      <td>NaN</td>\n",
       "      <td>NaN</td>\n",
       "      <td>NaN</td>\n",
       "      <td>NaN</td>\n",
       "    </tr>\n",
       "    <tr>\n",
       "      <th>1</th>\n",
       "      <td>3</td>\n",
       "      <td>0.41</td>\n",
       "      <td>0.71</td>\n",
       "      <td>0.72</td>\n",
       "      <td>NaN</td>\n",
       "      <td>NaN</td>\n",
       "      <td>NaN</td>\n",
       "      <td>NaN</td>\n",
       "      <td>NaN</td>\n",
       "    </tr>\n",
       "    <tr>\n",
       "      <th>2</th>\n",
       "      <td>4</td>\n",
       "      <td>1.70</td>\n",
       "      <td>2.21</td>\n",
       "      <td>2.21</td>\n",
       "      <td>NaN</td>\n",
       "      <td>NaN</td>\n",
       "      <td>NaN</td>\n",
       "      <td>NaN</td>\n",
       "      <td>NaN</td>\n",
       "    </tr>\n",
       "    <tr>\n",
       "      <th>3</th>\n",
       "      <td>5</td>\n",
       "      <td>0.62</td>\n",
       "      <td>0.60</td>\n",
       "      <td>0.68</td>\n",
       "      <td>NaN</td>\n",
       "      <td>NaN</td>\n",
       "      <td>NaN</td>\n",
       "      <td>NaN</td>\n",
       "      <td>NaN</td>\n",
       "    </tr>\n",
       "    <tr>\n",
       "      <th>4</th>\n",
       "      <td>6</td>\n",
       "      <td>0.60</td>\n",
       "      <td>0.60</td>\n",
       "      <td>0.90</td>\n",
       "      <td>NaN</td>\n",
       "      <td>NaN</td>\n",
       "      <td>NaN</td>\n",
       "      <td>NaN</td>\n",
       "      <td>NaN</td>\n",
       "    </tr>\n",
       "    <tr>\n",
       "      <th>...</th>\n",
       "      <td>...</td>\n",
       "      <td>...</td>\n",
       "      <td>...</td>\n",
       "      <td>...</td>\n",
       "      <td>...</td>\n",
       "      <td>...</td>\n",
       "      <td>...</td>\n",
       "      <td>...</td>\n",
       "      <td>...</td>\n",
       "    </tr>\n",
       "    <tr>\n",
       "      <th>142</th>\n",
       "      <td>208</td>\n",
       "      <td>0.44</td>\n",
       "      <td>0.38</td>\n",
       "      <td>1.90</td>\n",
       "      <td>NaN</td>\n",
       "      <td>NaN</td>\n",
       "      <td>NaN</td>\n",
       "      <td>NaN</td>\n",
       "      <td>NaN</td>\n",
       "    </tr>\n",
       "    <tr>\n",
       "      <th>143</th>\n",
       "      <td>211</td>\n",
       "      <td>0.30</td>\n",
       "      <td>0.37</td>\n",
       "      <td>0.50</td>\n",
       "      <td>NaN</td>\n",
       "      <td>NaN</td>\n",
       "      <td>NaN</td>\n",
       "      <td>NaN</td>\n",
       "      <td>NaN</td>\n",
       "    </tr>\n",
       "    <tr>\n",
       "      <th>144</th>\n",
       "      <td>212</td>\n",
       "      <td>1.50</td>\n",
       "      <td>2.40</td>\n",
       "      <td>3.60</td>\n",
       "      <td>NaN</td>\n",
       "      <td>NaN</td>\n",
       "      <td>NaN</td>\n",
       "      <td>NaN</td>\n",
       "      <td>NaN</td>\n",
       "    </tr>\n",
       "    <tr>\n",
       "      <th>145</th>\n",
       "      <td>213</td>\n",
       "      <td>0.52</td>\n",
       "      <td>0.31</td>\n",
       "      <td>0.50</td>\n",
       "      <td>NaN</td>\n",
       "      <td>NaN</td>\n",
       "      <td>NaN</td>\n",
       "      <td>NaN</td>\n",
       "      <td>NaN</td>\n",
       "    </tr>\n",
       "    <tr>\n",
       "      <th>146</th>\n",
       "      <td>214</td>\n",
       "      <td>0.17</td>\n",
       "      <td>0.19</td>\n",
       "      <td>0.26</td>\n",
       "      <td>NaN</td>\n",
       "      <td>NaN</td>\n",
       "      <td>NaN</td>\n",
       "      <td>NaN</td>\n",
       "      <td>NaN</td>\n",
       "    </tr>\n",
       "  </tbody>\n",
       "</table>\n",
       "<p>147 rows × 9 columns</p>\n",
       "</div>"
      ],
      "text/plain": [
       "      Id  target     1     2   3   4   5   6   7\n",
       "0      0    1.10  0.69  1.04 NaN NaN NaN NaN NaN\n",
       "1      3    0.41  0.71  0.72 NaN NaN NaN NaN NaN\n",
       "2      4    1.70  2.21  2.21 NaN NaN NaN NaN NaN\n",
       "3      5    0.62  0.60  0.68 NaN NaN NaN NaN NaN\n",
       "4      6    0.60  0.60  0.90 NaN NaN NaN NaN NaN\n",
       "..   ...     ...   ...   ...  ..  ..  ..  ..  ..\n",
       "142  208    0.44  0.38  1.90 NaN NaN NaN NaN NaN\n",
       "143  211    0.30  0.37  0.50 NaN NaN NaN NaN NaN\n",
       "144  212    1.50  2.40  3.60 NaN NaN NaN NaN NaN\n",
       "145  213    0.52  0.31  0.50 NaN NaN NaN NaN NaN\n",
       "146  214    0.17  0.19  0.26 NaN NaN NaN NaN NaN\n",
       "\n",
       "[147 rows x 9 columns]"
      ]
     },
     "execution_count": 2,
     "metadata": {},
     "output_type": "execute_result"
    }
   ],
   "source": [
    "df = pd.read_csv(r\"C:\\Users\\DELL-PC\\Downloads\\archive (3)\\Data for Ammonium prediction.csv\")\n",
    "df"
   ]
  },
  {
   "cell_type": "markdown",
   "id": "289f7e2a",
   "metadata": {},
   "source": [
    "# 3 Understand and Prepare the data "
   ]
  },
  {
   "cell_type": "markdown",
   "id": "dc4d13f1",
   "metadata": {},
   "source": [
    "## 3.1 Data Types and Data dimensions "
   ]
  },
  {
   "cell_type": "code",
   "execution_count": 3,
   "id": "15aa53cd",
   "metadata": {},
   "outputs": [
    {
     "name": "stdout",
     "output_type": "stream",
     "text": [
      "<class 'pandas.core.frame.DataFrame'>\n",
      "RangeIndex: 147 entries, 0 to 146\n",
      "Data columns (total 9 columns):\n",
      " #   Column  Non-Null Count  Dtype  \n",
      "---  ------  --------------  -----  \n",
      " 0   Id      147 non-null    int64  \n",
      " 1   target  147 non-null    float64\n",
      " 2   1       145 non-null    float64\n",
      " 3   2       145 non-null    float64\n",
      " 4   3       32 non-null     float64\n",
      " 5   4       31 non-null     float64\n",
      " 6   5       33 non-null     float64\n",
      " 7   6       37 non-null     float64\n",
      " 8   7       37 non-null     float64\n",
      "dtypes: float64(8), int64(1)\n",
      "memory usage: 10.5 KB\n"
     ]
    }
   ],
   "source": [
    "df.info()"
   ]
  },
  {
   "cell_type": "code",
   "execution_count": 4,
   "id": "b61037f3",
   "metadata": {},
   "outputs": [
    {
     "data": {
      "text/plain": [
       "(147, 9)"
      ]
     },
     "execution_count": 4,
     "metadata": {},
     "output_type": "execute_result"
    }
   ],
   "source": [
    "df.shape"
   ]
  },
  {
   "cell_type": "markdown",
   "id": "bca1c570",
   "metadata": {},
   "source": [
    "## 3.2 Missing values "
   ]
  },
  {
   "cell_type": "code",
   "execution_count": 5,
   "id": "08f8b9c0",
   "metadata": {},
   "outputs": [
    {
     "data": {
      "text/plain": [
       "Id         0.000000\n",
       "target     0.000000\n",
       "1          1.360544\n",
       "2          1.360544\n",
       "3         78.231293\n",
       "4         78.911565\n",
       "5         77.551020\n",
       "6         74.829932\n",
       "7         74.829932\n",
       "dtype: float64"
      ]
     },
     "execution_count": 5,
     "metadata": {},
     "output_type": "execute_result"
    }
   ],
   "source": [
    "df.isnull().sum()/len(df)*100"
   ]
  },
  {
   "cell_type": "markdown",
   "id": "009235e1",
   "metadata": {},
   "source": [
    "**In above output we can clearly see that column 3 to 7 has more than 74%**\n",
    "**so we will remove the column 3 to 7**"
   ]
  },
  {
   "cell_type": "code",
   "execution_count": 6,
   "id": "e7721399",
   "metadata": {},
   "outputs": [],
   "source": [
    "null_value=df.columns[df.isna().sum()/len(df)*100 >74]\n",
    "df.drop(null_value,axis=1,inplace=True)"
   ]
  },
  {
   "cell_type": "code",
   "execution_count": 7,
   "id": "f0ab28b6",
   "metadata": {},
   "outputs": [],
   "source": [
    "df =df.dropna().reset_index(drop=True)"
   ]
  },
  {
   "cell_type": "markdown",
   "id": "67cb9ae6",
   "metadata": {},
   "source": [
    "## 3.3 Check duplicate Values "
   ]
  },
  {
   "cell_type": "code",
   "execution_count": 8,
   "id": "a6b16e86",
   "metadata": {},
   "outputs": [
    {
     "data": {
      "text/plain": [
       "0"
      ]
     },
     "execution_count": 8,
     "metadata": {},
     "output_type": "execute_result"
    }
   ],
   "source": [
    "df.duplicated().sum()"
   ]
  },
  {
   "cell_type": "markdown",
   "id": "376b887b",
   "metadata": {},
   "source": [
    "in this data we don't have any duplicate values "
   ]
  },
  {
   "cell_type": "markdown",
   "id": "522112fd",
   "metadata": {},
   "source": [
    "## 3.4 Data Correction "
   ]
  },
  {
   "cell_type": "code",
   "execution_count": 9,
   "id": "d5c880f1",
   "metadata": {},
   "outputs": [],
   "source": [
    "df.drop('Id',axis=1,inplace=True)"
   ]
  },
  {
   "cell_type": "code",
   "execution_count": 10,
   "id": "1cc100aa",
   "metadata": {},
   "outputs": [
    {
     "data": {
      "text/html": [
       "<div>\n",
       "<style scoped>\n",
       "    .dataframe tbody tr th:only-of-type {\n",
       "        vertical-align: middle;\n",
       "    }\n",
       "\n",
       "    .dataframe tbody tr th {\n",
       "        vertical-align: top;\n",
       "    }\n",
       "\n",
       "    .dataframe thead th {\n",
       "        text-align: right;\n",
       "    }\n",
       "</style>\n",
       "<table border=\"1\" class=\"dataframe\">\n",
       "  <thead>\n",
       "    <tr style=\"text-align: right;\">\n",
       "      <th></th>\n",
       "      <th>target</th>\n",
       "      <th>1</th>\n",
       "      <th>2</th>\n",
       "    </tr>\n",
       "  </thead>\n",
       "  <tbody>\n",
       "    <tr>\n",
       "      <th>0</th>\n",
       "      <td>1.10</td>\n",
       "      <td>0.69</td>\n",
       "      <td>1.04</td>\n",
       "    </tr>\n",
       "    <tr>\n",
       "      <th>1</th>\n",
       "      <td>0.41</td>\n",
       "      <td>0.71</td>\n",
       "      <td>0.72</td>\n",
       "    </tr>\n",
       "    <tr>\n",
       "      <th>2</th>\n",
       "      <td>1.70</td>\n",
       "      <td>2.21</td>\n",
       "      <td>2.21</td>\n",
       "    </tr>\n",
       "    <tr>\n",
       "      <th>3</th>\n",
       "      <td>0.62</td>\n",
       "      <td>0.60</td>\n",
       "      <td>0.68</td>\n",
       "    </tr>\n",
       "    <tr>\n",
       "      <th>4</th>\n",
       "      <td>0.60</td>\n",
       "      <td>0.60</td>\n",
       "      <td>0.90</td>\n",
       "    </tr>\n",
       "    <tr>\n",
       "      <th>...</th>\n",
       "      <td>...</td>\n",
       "      <td>...</td>\n",
       "      <td>...</td>\n",
       "    </tr>\n",
       "    <tr>\n",
       "      <th>139</th>\n",
       "      <td>0.44</td>\n",
       "      <td>0.38</td>\n",
       "      <td>1.90</td>\n",
       "    </tr>\n",
       "    <tr>\n",
       "      <th>140</th>\n",
       "      <td>0.30</td>\n",
       "      <td>0.37</td>\n",
       "      <td>0.50</td>\n",
       "    </tr>\n",
       "    <tr>\n",
       "      <th>141</th>\n",
       "      <td>1.50</td>\n",
       "      <td>2.40</td>\n",
       "      <td>3.60</td>\n",
       "    </tr>\n",
       "    <tr>\n",
       "      <th>142</th>\n",
       "      <td>0.52</td>\n",
       "      <td>0.31</td>\n",
       "      <td>0.50</td>\n",
       "    </tr>\n",
       "    <tr>\n",
       "      <th>143</th>\n",
       "      <td>0.17</td>\n",
       "      <td>0.19</td>\n",
       "      <td>0.26</td>\n",
       "    </tr>\n",
       "  </tbody>\n",
       "</table>\n",
       "<p>144 rows × 3 columns</p>\n",
       "</div>"
      ],
      "text/plain": [
       "     target     1     2\n",
       "0      1.10  0.69  1.04\n",
       "1      0.41  0.71  0.72\n",
       "2      1.70  2.21  2.21\n",
       "3      0.62  0.60  0.68\n",
       "4      0.60  0.60  0.90\n",
       "..      ...   ...   ...\n",
       "139    0.44  0.38  1.90\n",
       "140    0.30  0.37  0.50\n",
       "141    1.50  2.40  3.60\n",
       "142    0.52  0.31  0.50\n",
       "143    0.17  0.19  0.26\n",
       "\n",
       "[144 rows x 3 columns]"
      ]
     },
     "execution_count": 10,
     "metadata": {},
     "output_type": "execute_result"
    }
   ],
   "source": [
    "df"
   ]
  },
  {
   "cell_type": "code",
   "execution_count": 11,
   "id": "1a1fe0ea",
   "metadata": {},
   "outputs": [
    {
     "name": "stdout",
     "output_type": "stream",
     "text": [
      "<class 'pandas.core.frame.DataFrame'>\n",
      "RangeIndex: 144 entries, 0 to 143\n",
      "Data columns (total 3 columns):\n",
      " #   Column  Non-Null Count  Dtype  \n",
      "---  ------  --------------  -----  \n",
      " 0   target  144 non-null    float64\n",
      " 1   1       144 non-null    float64\n",
      " 2   2       144 non-null    float64\n",
      "dtypes: float64(3)\n",
      "memory usage: 3.5 KB\n"
     ]
    }
   ],
   "source": [
    "df.info()"
   ]
  },
  {
   "cell_type": "markdown",
   "id": "bd27e521",
   "metadata": {},
   "source": [
    "# 4 EDA(Exploratory Data Analysis) "
   ]
  },
  {
   "cell_type": "markdown",
   "id": "05504d63",
   "metadata": {},
   "source": [
    "## 4.1 Statistical Summary "
   ]
  },
  {
   "cell_type": "code",
   "execution_count": 12,
   "id": "6c173a58",
   "metadata": {},
   "outputs": [
    {
     "data": {
      "text/html": [
       "<div>\n",
       "<style scoped>\n",
       "    .dataframe tbody tr th:only-of-type {\n",
       "        vertical-align: middle;\n",
       "    }\n",
       "\n",
       "    .dataframe tbody tr th {\n",
       "        vertical-align: top;\n",
       "    }\n",
       "\n",
       "    .dataframe thead th {\n",
       "        text-align: right;\n",
       "    }\n",
       "</style>\n",
       "<table border=\"1\" class=\"dataframe\">\n",
       "  <thead>\n",
       "    <tr style=\"text-align: right;\">\n",
       "      <th></th>\n",
       "      <th>target</th>\n",
       "      <th>1</th>\n",
       "      <th>2</th>\n",
       "    </tr>\n",
       "  </thead>\n",
       "  <tbody>\n",
       "    <tr>\n",
       "      <th>count</th>\n",
       "      <td>144.000000</td>\n",
       "      <td>144.000000</td>\n",
       "      <td>144.000000</td>\n",
       "    </tr>\n",
       "    <tr>\n",
       "      <th>mean</th>\n",
       "      <td>0.580486</td>\n",
       "      <td>0.588264</td>\n",
       "      <td>0.664653</td>\n",
       "    </tr>\n",
       "    <tr>\n",
       "      <th>std</th>\n",
       "      <td>0.434269</td>\n",
       "      <td>0.463758</td>\n",
       "      <td>0.592069</td>\n",
       "    </tr>\n",
       "    <tr>\n",
       "      <th>min</th>\n",
       "      <td>0.040000</td>\n",
       "      <td>0.040000</td>\n",
       "      <td>0.020000</td>\n",
       "    </tr>\n",
       "    <tr>\n",
       "      <th>25%</th>\n",
       "      <td>0.250000</td>\n",
       "      <td>0.227500</td>\n",
       "      <td>0.220000</td>\n",
       "    </tr>\n",
       "    <tr>\n",
       "      <th>50%</th>\n",
       "      <td>0.425000</td>\n",
       "      <td>0.415000</td>\n",
       "      <td>0.455000</td>\n",
       "    </tr>\n",
       "    <tr>\n",
       "      <th>75%</th>\n",
       "      <td>0.827500</td>\n",
       "      <td>0.802500</td>\n",
       "      <td>0.920000</td>\n",
       "    </tr>\n",
       "    <tr>\n",
       "      <th>max</th>\n",
       "      <td>1.930000</td>\n",
       "      <td>2.400000</td>\n",
       "      <td>3.600000</td>\n",
       "    </tr>\n",
       "  </tbody>\n",
       "</table>\n",
       "</div>"
      ],
      "text/plain": [
       "           target           1           2\n",
       "count  144.000000  144.000000  144.000000\n",
       "mean     0.580486    0.588264    0.664653\n",
       "std      0.434269    0.463758    0.592069\n",
       "min      0.040000    0.040000    0.020000\n",
       "25%      0.250000    0.227500    0.220000\n",
       "50%      0.425000    0.415000    0.455000\n",
       "75%      0.827500    0.802500    0.920000\n",
       "max      1.930000    2.400000    3.600000"
      ]
     },
     "execution_count": 12,
     "metadata": {},
     "output_type": "execute_result"
    }
   ],
   "source": [
    "df.describe()"
   ]
  },
  {
   "cell_type": "markdown",
   "id": "b3c8dda0",
   "metadata": {},
   "source": [
    "## 4.2 Finding Outliers "
   ]
  },
  {
   "cell_type": "code",
   "execution_count": 13,
   "id": "49da39de",
   "metadata": {},
   "outputs": [
    {
     "data": {
      "text/plain": [
       "<function matplotlib.pyplot.show(close=None, block=None)>"
      ]
     },
     "execution_count": 13,
     "metadata": {},
     "output_type": "execute_result"
    },
    {
     "data": {
      "image/png": "[encoded data removed]",
      "text/plain": [
       "<Figure size 640x480 with 1 Axes>"
      ]
     },
     "metadata": {},
     "output_type": "display_data"
    }
   ],
   "source": [
    "sns.boxplot(df)\n",
    "plt.show"
   ]
  },
  {
   "cell_type": "markdown",
   "id": "1c0cc639",
   "metadata": {},
   "source": [
    "## 4.3 univariate analysis "
   ]
  },
  {
   "cell_type": "code",
   "execution_count": 14,
   "id": "53997af8",
   "metadata": {},
   "outputs": [
    {
     "data": {
      "image/png": "[encoded data removed]",
      "text/plain": [
       "<Figure size 1800x1800 with 4 Axes>"
      ]
     },
     "metadata": {},
     "output_type": "display_data"
    }
   ],
   "source": [
    "fig = df.hist(figsize = (18,18))"
   ]
  },
  {
   "cell_type": "markdown",
   "id": "ccf1a084",
   "metadata": {},
   "source": [
    "we can see that our data is not normally distributed"
   ]
  },
  {
   "cell_type": "markdown",
   "id": "747bbf1c",
   "metadata": {},
   "source": [
    "## 4.4 Multivariate Analysis"
   ]
  },
  {
   "cell_type": "code",
   "execution_count": 15,
   "id": "32d4451b",
   "metadata": {},
   "outputs": [
    {
     "data": {
      "image/png": "[encoded data removed]",
      "text/plain": [
       "<Figure size 800x400 with 1 Axes>"
      ]
     },
     "metadata": {},
     "output_type": "display_data"
    },
    {
     "data": {
      "image/png": "[encoded data removed]",
      "text/plain": [
       "<Figure size 800x400 with 1 Axes>"
      ]
     },
     "metadata": {},
     "output_type": "display_data"
    }
   ],
   "source": [
    "target_variable = 'target'\n",
    "for col in df.columns:\n",
    "    if col != target_variable:\n",
    "        plt.figure(figsize=(8, 4))\n",
    "        sns.scatterplot(x=col, y=target_variable, data=df)\n",
    "        plt.title(f'{col} vs. {target_variable}')\n",
    "        plt.show()"
   ]
  },
  {
   "cell_type": "markdown",
   "id": "974c7539",
   "metadata": {},
   "source": [
    "By above output station 1 and 2 has linear relation with target variable "
   ]
  },
  {
   "cell_type": "markdown",
   "id": "b77a4050",
   "metadata": {},
   "source": [
    "## 4.5 Correlation"
   ]
  },
  {
   "cell_type": "code",
   "execution_count": 16,
   "id": "8cde161b",
   "metadata": {},
   "outputs": [
    {
     "data": {
      "text/html": [
       "<div>\n",
       "<style scoped>\n",
       "    .dataframe tbody tr th:only-of-type {\n",
       "        vertical-align: middle;\n",
       "    }\n",
       "\n",
       "    .dataframe tbody tr th {\n",
       "        vertical-align: top;\n",
       "    }\n",
       "\n",
       "    .dataframe thead th {\n",
       "        text-align: right;\n",
       "    }\n",
       "</style>\n",
       "<table border=\"1\" class=\"dataframe\">\n",
       "  <thead>\n",
       "    <tr style=\"text-align: right;\">\n",
       "      <th></th>\n",
       "      <th>target</th>\n",
       "      <th>1</th>\n",
       "      <th>2</th>\n",
       "    </tr>\n",
       "  </thead>\n",
       "  <tbody>\n",
       "    <tr>\n",
       "      <th>target</th>\n",
       "      <td>1.000000</td>\n",
       "      <td>0.891038</td>\n",
       "      <td>0.788487</td>\n",
       "    </tr>\n",
       "    <tr>\n",
       "      <th>1</th>\n",
       "      <td>0.891038</td>\n",
       "      <td>1.000000</td>\n",
       "      <td>0.832721</td>\n",
       "    </tr>\n",
       "    <tr>\n",
       "      <th>2</th>\n",
       "      <td>0.788487</td>\n",
       "      <td>0.832721</td>\n",
       "      <td>1.000000</td>\n",
       "    </tr>\n",
       "  </tbody>\n",
       "</table>\n",
       "</div>"
      ],
      "text/plain": [
       "          target         1         2\n",
       "target  1.000000  0.891038  0.788487\n",
       "1       0.891038  1.000000  0.832721\n",
       "2       0.788487  0.832721  1.000000"
      ]
     },
     "execution_count": 16,
     "metadata": {},
     "output_type": "execute_result"
    }
   ],
   "source": [
    "corr = df.corr()\n",
    "corr"
   ]
  },
  {
   "cell_type": "code",
   "execution_count": 17,
   "id": "2f02db13",
   "metadata": {},
   "outputs": [
    {
     "data": {
      "text/plain": [
       "<Axes: >"
      ]
     },
     "execution_count": 17,
     "metadata": {},
     "output_type": "execute_result"
    },
    {
     "data": {
      "image/png": "[encoded data removed]",
      "text/plain": [
       "<Figure size 900x900 with 2 Axes>"
      ]
     },
     "metadata": {},
     "output_type": "display_data"
    }
   ],
   "source": [
    "fig,ax = plt.subplots(figsize=(9, 9))\n",
    "sns.heatmap(df.corr(), annot=True, linewidths=.5, fmt= '.2f',ax=ax)"
   ]
  },
  {
   "cell_type": "markdown",
   "id": "1d162e62",
   "metadata": {},
   "source": [
    "# 5 Data Preprocessing "
   ]
  },
  {
   "cell_type": "markdown",
   "id": "96ce4f13",
   "metadata": {},
   "source": [
    "## 5.1 Standardise Data"
   ]
  },
  {
   "cell_type": "code",
   "execution_count": 18,
   "id": "c84ed041",
   "metadata": {},
   "outputs": [],
   "source": [
    "X = df.drop('target',axis=1)"
   ]
  },
  {
   "cell_type": "code",
   "execution_count": 19,
   "id": "eb8ee799",
   "metadata": {},
   "outputs": [],
   "source": [
    "from sklearn.preprocessing import StandardScaler\n",
    "scaler = StandardScaler()\n",
    "scaled_data = scaler.fit_transform(X)"
   ]
  },
  {
   "cell_type": "code",
   "execution_count": 20,
   "id": "fd387ec9",
   "metadata": {},
   "outputs": [],
   "source": [
    "X = scaler.fit_transform(scaled_data)\n",
    "x = pd.DataFrame(X)\n"
   ]
  },
  {
   "cell_type": "code",
   "execution_count": 21,
   "id": "7bf82a08",
   "metadata": {},
   "outputs": [
    {
     "data": {
      "text/plain": [
       "0      1.10\n",
       "1      0.41\n",
       "2      1.70\n",
       "3      0.62\n",
       "4      0.60\n",
       "       ... \n",
       "139    0.44\n",
       "140    0.30\n",
       "141    1.50\n",
       "142    0.52\n",
       "143    0.17\n",
       "Name: target, Length: 144, dtype: float64"
      ]
     },
     "execution_count": 21,
     "metadata": {},
     "output_type": "execute_result"
    }
   ],
   "source": [
    "Y = df['target']\n",
    "Y"
   ]
  },
  {
   "cell_type": "markdown",
   "id": "62df90d1",
   "metadata": {},
   "source": [
    "## 5.2 Transform the data "
   ]
  },
  {
   "cell_type": "code",
   "execution_count": 22,
   "id": "b872d6c6",
   "metadata": {},
   "outputs": [
    {
     "data": {
      "text/html": [
       "<div>\n",
       "<style scoped>\n",
       "    .dataframe tbody tr th:only-of-type {\n",
       "        vertical-align: middle;\n",
       "    }\n",
       "\n",
       "    .dataframe tbody tr th {\n",
       "        vertical-align: top;\n",
       "    }\n",
       "\n",
       "    .dataframe thead th {\n",
       "        text-align: right;\n",
       "    }\n",
       "</style>\n",
       "<table border=\"1\" class=\"dataframe\">\n",
       "  <thead>\n",
       "    <tr style=\"text-align: right;\">\n",
       "      <th></th>\n",
       "      <th>target</th>\n",
       "      <th>1</th>\n",
       "      <th>2</th>\n",
       "    </tr>\n",
       "  </thead>\n",
       "  <tbody>\n",
       "    <tr>\n",
       "      <th>0</th>\n",
       "      <td>1.250062</td>\n",
       "      <td>0.582208</td>\n",
       "      <td>0.971108</td>\n",
       "    </tr>\n",
       "    <tr>\n",
       "      <th>1</th>\n",
       "      <td>-0.167152</td>\n",
       "      <td>0.623088</td>\n",
       "      <td>0.492447</td>\n",
       "    </tr>\n",
       "    <tr>\n",
       "      <th>2</th>\n",
       "      <td>1.793517</td>\n",
       "      <td>1.998896</td>\n",
       "      <td>1.810258</td>\n",
       "    </tr>\n",
       "    <tr>\n",
       "      <th>3</th>\n",
       "      <td>0.425496</td>\n",
       "      <td>0.381783</td>\n",
       "      <td>0.417164</td>\n",
       "    </tr>\n",
       "    <tr>\n",
       "      <th>4</th>\n",
       "      <td>0.377368</td>\n",
       "      <td>0.381783</td>\n",
       "      <td>0.785224</td>\n",
       "    </tr>\n",
       "  </tbody>\n",
       "</table>\n",
       "</div>"
      ],
      "text/plain": [
       "     target         1         2\n",
       "0  1.250062  0.582208  0.971108\n",
       "1 -0.167152  0.623088  0.492447\n",
       "2  1.793517  1.998896  1.810258\n",
       "3  0.425496  0.381783  0.417164\n",
       "4  0.377368  0.381783  0.785224"
      ]
     },
     "execution_count": 22,
     "metadata": {},
     "output_type": "execute_result"
    }
   ],
   "source": [
    "pt = PowerTransformer(method='yeo-johnson') \n",
    "\n",
    "values=df[['target','1','2']]\n",
    "pt.fit(values)\n",
    "yeoj_transform=pt.transform(values)\n",
    "transformed_data=pd.DataFrame(data=yeoj_transform, columns=['target','1','2'])\n",
    "transformed_data.head()"
   ]
  },
  {
   "cell_type": "code",
   "execution_count": 23,
   "id": "2abe735c",
   "metadata": {},
   "outputs": [
    {
     "data": {
      "image/png": "[encoded data removed]",
      "text/plain": [
       "<Figure size 900x900 with 4 Axes>"
      ]
     },
     "metadata": {},
     "output_type": "display_data"
    }
   ],
   "source": [
    "fig = transformed_data.hist(figsize = (9,9))"
   ]
  },
  {
   "cell_type": "markdown",
   "id": "9c8129ae",
   "metadata": {},
   "source": [
    "## 5.3 Split the data "
   ]
  },
  {
   "cell_type": "code",
   "execution_count": 24,
   "id": "57746ac3",
   "metadata": {},
   "outputs": [],
   "source": [
    "x_train,x_test,y_train,y_test = train_test_split(x,Y, train_size=0.8,random_state=100)"
   ]
  },
  {
   "cell_type": "markdown",
   "id": "2a90e5ad",
   "metadata": {},
   "source": [
    "# 6 MODELING"
   ]
  },
  {
   "cell_type": "code",
   "execution_count": 25,
   "id": "8d979b1d",
   "metadata": {},
   "outputs": [
    {
     "data": {
      "text/html": [
       "<div>\n",
       "<style scoped>\n",
       "    .dataframe tbody tr th:only-of-type {\n",
       "        vertical-align: middle;\n",
       "    }\n",
       "\n",
       "    .dataframe tbody tr th {\n",
       "        vertical-align: top;\n",
       "    }\n",
       "\n",
       "    .dataframe thead th {\n",
       "        text-align: right;\n",
       "    }\n",
       "</style>\n",
       "<table border=\"1\" class=\"dataframe\">\n",
       "  <thead>\n",
       "    <tr style=\"text-align: right;\">\n",
       "      <th></th>\n",
       "      <th>model</th>\n",
       "      <th>r2_on_test</th>\n",
       "      <th>r2_on_train</th>\n",
       "      <th>MSE</th>\n",
       "    </tr>\n",
       "  </thead>\n",
       "  <tbody>\n",
       "    <tr>\n",
       "      <th>0</th>\n",
       "      <td>Linear Regression</td>\n",
       "      <td>0</td>\n",
       "      <td>0</td>\n",
       "      <td>0</td>\n",
       "    </tr>\n",
       "    <tr>\n",
       "      <th>1</th>\n",
       "      <td>Linear Regression with transform data</td>\n",
       "      <td>0</td>\n",
       "      <td>0</td>\n",
       "      <td>0</td>\n",
       "    </tr>\n",
       "    <tr>\n",
       "      <th>2</th>\n",
       "      <td>Decision Tree Regressor</td>\n",
       "      <td>0</td>\n",
       "      <td>0</td>\n",
       "      <td>0</td>\n",
       "    </tr>\n",
       "    <tr>\n",
       "      <th>3</th>\n",
       "      <td>Random Forest Regressor</td>\n",
       "      <td>0</td>\n",
       "      <td>0</td>\n",
       "      <td>0</td>\n",
       "    </tr>\n",
       "    <tr>\n",
       "      <th>4</th>\n",
       "      <td>XGBoost Regressor</td>\n",
       "      <td>0</td>\n",
       "      <td>0</td>\n",
       "      <td>0</td>\n",
       "    </tr>\n",
       "    <tr>\n",
       "      <th>5</th>\n",
       "      <td>Support vector regressor</td>\n",
       "      <td>0</td>\n",
       "      <td>0</td>\n",
       "      <td>0</td>\n",
       "    </tr>\n",
       "  </tbody>\n",
       "</table>\n",
       "</div>"
      ],
      "text/plain": [
       "                                   model  r2_on_test  r2_on_train  MSE\n",
       "0                      Linear Regression           0            0    0\n",
       "1  Linear Regression with transform data           0            0    0\n",
       "2                Decision Tree Regressor           0            0    0\n",
       "3                Random Forest Regressor           0            0    0\n",
       "4                      XGBoost Regressor           0            0    0\n",
       "5               Support vector regressor           0            0    0"
      ]
     },
     "execution_count": 25,
     "metadata": {},
     "output_type": "execute_result"
    }
   ],
   "source": [
    "result = pd.DataFrame({'model' : [ 'Linear Regression','Linear Regression with transform data','Decision Tree Regressor', \n",
    "                                  'Random Forest Regressor', 'XGBoost Regressor','Support vector regressor'], \n",
    "                       'r2_on_test': 0, 'r2_on_train': 0,'MSE':0})\n",
    "result"
   ]
  },
  {
   "cell_type": "markdown",
   "id": "e607bb27",
   "metadata": {},
   "source": [
    "## 6.1 Linear Regression"
   ]
  },
  {
   "cell_type": "code",
   "execution_count": 26,
   "id": "ec1e5ed9",
   "metadata": {},
   "outputs": [
    {
     "name": "stdout",
     "output_type": "stream",
     "text": [
      "Accuracy of Linear Regression model testing is 80.7\n",
      "mean_squared_error of Linear Regression model is 0.03954511358823756\n"
     ]
    }
   ],
   "source": [
    "# training the model\n",
    "LR = LinearRegression()\n",
    "LR_model = LR.fit(x_train,y_train)\n",
    "\n",
    "# prediction on test data \n",
    "y_test_lr = LR_model.predict(x_test)\n",
    "\n",
    "# Accuracy of model\n",
    "r2_score_accuracy = round(r2_score(y_test, y_test_lr)*100, 1)\n",
    "print(f'Accuracy of Linear Regression model testing is {r2_score_accuracy}')\n",
    "MSE = mean_squared_error(y_test,y_test_lr)\n",
    "print(f'mean_squared_error of Linear Regression model is {MSE}')\n",
    "result.loc[result['model'] == 'Linear Regression',['r2_on_test','MSE']]= r2_score_accuracy,MSE"
   ]
  },
  {
   "cell_type": "markdown",
   "id": "86606454",
   "metadata": {},
   "source": [
    "## Check overfitting "
   ]
  },
  {
   "cell_type": "code",
   "execution_count": 27,
   "id": "0f50e193",
   "metadata": {},
   "outputs": [
    {
     "name": "stdout",
     "output_type": "stream",
     "text": [
      "Accuracy of Linear Regression  model prediction for train dataset is 79.7\n"
     ]
    }
   ],
   "source": [
    "# Prediction on train data \n",
    "y_train_lr = LR_model.predict(x_train)\n",
    "\n",
    "# Accuracy of model on  train data \n",
    "r2_score_acc_train = round(r2_score(y_train, y_train_lr)*100,1)\n",
    "print(f'Accuracy of Linear Regression  model prediction for train dataset is {r2_score_acc_train}')\n",
    "result.loc[result['model'] == 'Linear Regression', 'r2_on_train'] = r2_score_acc_train"
   ]
  },
  {
   "cell_type": "markdown",
   "id": "9ac2a967",
   "metadata": {},
   "source": [
    "## 6.2 Linear Regression with transform data"
   ]
  },
  {
   "cell_type": "code",
   "execution_count": 28,
   "id": "fe98779c",
   "metadata": {},
   "outputs": [],
   "source": [
    "X1=transformed_data.drop('target',axis=1)\n",
    "Y1=transformed_data['target']"
   ]
  },
  {
   "cell_type": "code",
   "execution_count": 29,
   "id": "b270e246",
   "metadata": {},
   "outputs": [],
   "source": [
    "x1_train,x1_test,y1_train,y1_test = train_test_split(X1,Y1, train_size=0.8,random_state=100)"
   ]
  },
  {
   "cell_type": "code",
   "execution_count": 30,
   "id": "48c4811f",
   "metadata": {},
   "outputs": [
    {
     "name": "stdout",
     "output_type": "stream",
     "text": [
      "Accuracy of Linear Regression with transform data  model testing is 87.5\n",
      "mean_squared_error of Linear Regression with transform data model is 0.13252251695962627\n"
     ]
    }
   ],
   "source": [
    "# training the model\n",
    "LR = LinearRegression()\n",
    "LR_model = LR.fit(x1_train,y1_train)\n",
    "\n",
    "# prediction on test data \n",
    "y1_test_lr = LR_model.predict(x1_test)\n",
    "\n",
    "# Accuracy of model\n",
    "r2_score_accuracy = round(r2_score(y1_test, y1_test_lr)*100, 1)\n",
    "print(f'Accuracy of Linear Regression with transform data  model testing is {r2_score_accuracy}')\n",
    "MSE = mean_squared_error(y1_test,y1_test_lr)\n",
    "print(f'mean_squared_error of Linear Regression with transform data model is {MSE}')\n",
    "result.loc[result['model'] == 'Linear Regression with transform data',['r2_on_test','MSE']]= r2_score_accuracy,MSE"
   ]
  },
  {
   "cell_type": "code",
   "execution_count": 31,
   "id": "54a6fbba",
   "metadata": {},
   "outputs": [
    {
     "name": "stdout",
     "output_type": "stream",
     "text": [
      "Accuracy of Linear Regression  model prediction for train dataset is 83.7\n"
     ]
    }
   ],
   "source": [
    "# Prediction on train data \n",
    "y1_train_lr = LR_model.predict(x1_train)\n",
    "\n",
    "# Accuracy of model on  train data \n",
    "r2_score_acc_train = round(r2_score(y1_train, y1_train_lr)*100,1)\n",
    "print(f'Accuracy of Linear Regression  model prediction for train dataset is {r2_score_acc_train}')\n",
    "result.loc[result['model'] == 'Linear Regression with transform data', 'r2_on_train'] = r2_score_acc_train"
   ]
  },
  {
   "cell_type": "markdown",
   "id": "f44fd4dc",
   "metadata": {},
   "source": [
    "## 6.3 Decision Tree With GridSearchCV"
   ]
  },
  {
   "cell_type": "code",
   "execution_count": 32,
   "id": "b5bc0065",
   "metadata": {},
   "outputs": [
    {
     "name": "stdout",
     "output_type": "stream",
     "text": [
      "{'max_depth': 6, 'min_samples_leaf': 5}\n",
      "Accuracy of DecisionTreeRegressor model testing is 82.8\n",
      "mean_squared_error of Decision Tree Regressor  model  is 0.0352635427392245\n"
     ]
    }
   ],
   "source": [
    "decision_tree = DecisionTreeRegressor()\n",
    "param_grid = {'min_samples_leaf': [i for i in range(5,10)], 'max_depth': [i for i in range(3,12)]}\n",
    "cv_train = ShuffleSplit(n_splits=5, test_size=0.1, random_state=0)\n",
    "\n",
    "# Training model\n",
    "decision_tree_CV = GridSearchCV(decision_tree, param_grid=param_grid, cv=cv_train, verbose=False)\n",
    "decision_tree_CV.fit(x_train, y_train)\n",
    "print(decision_tree_CV.best_params_)\n",
    "\n",
    "# Prediction for testing data\n",
    "y_test_dt = decision_tree_CV.predict(x_test)\n",
    "\n",
    "# Accuracy of model\n",
    "r2_score_accuracy = round(r2_score(y_test, y_test_dt)*100, 1)\n",
    "print(f'Accuracy of DecisionTreeRegressor model testing is {r2_score_accuracy}')\n",
    "\n",
    "# MSE and Save to result dataframe\n",
    "MSE = mean_squared_error(y_test,y_test_dt)\n",
    "print(f'mean_squared_error of Decision Tree Regressor  model  is {MSE}')\n",
    "result.loc[result['model'] =='Decision Tree Regressor',['r2_on_test','MSE']]= r2_score_accuracy,MSE"
   ]
  },
  {
   "cell_type": "markdown",
   "id": "76efcbfc",
   "metadata": {},
   "source": [
    "## check overfitting "
   ]
  },
  {
   "cell_type": "code",
   "execution_count": 33,
   "id": "bb46c0f8",
   "metadata": {},
   "outputs": [
    {
     "name": "stdout",
     "output_type": "stream",
     "text": [
      "Accuracy of DecisionTreeRegressor model prediction for train dataset is 87.4\n"
     ]
    }
   ],
   "source": [
    "# Prediction for training data \n",
    "y_train_dt = decision_tree_CV.predict(x_train)\n",
    "\n",
    "# Accuracy of model on traing data \n",
    "r2_score_acc_train = round(r2_score(y_train, y_train_dt)*100,1)\n",
    "result.loc[result['model'] == 'Decision Tree Regressor', 'r2_on_train'] = r2_score_acc_train\n",
    "print(f'Accuracy of DecisionTreeRegressor model prediction for train dataset is {r2_score_acc_train}')"
   ]
  },
  {
   "cell_type": "markdown",
   "id": "71badf12",
   "metadata": {},
   "source": [
    "## 6.4 Random Forest "
   ]
  },
  {
   "cell_type": "code",
   "execution_count": 34,
   "id": "2b6fb9f1",
   "metadata": {},
   "outputs": [
    {
     "name": "stdout",
     "output_type": "stream",
     "text": [
      "{'max_depth': 4, 'max_features': 1, 'min_samples_leaf': 6, 'n_estimators': 10}\n",
      "Accuracy of RandomForestRegressor model testing is 82.8\n",
      "mean_squared_error of Random Forest Regressor model testing is 0.040013335000430444\n"
     ]
    }
   ],
   "source": [
    "rf = RandomForestRegressor()\n",
    "param_grid = {'n_estimators': [10, 100, 500], 'min_samples_leaf': [i for i in range(5,10)], \n",
    "              'max_features': [1], 'max_depth': [i for i in range(4,6)] }\n",
    "\n",
    "# Training model\n",
    "rf_CV = GridSearchCV(rf, param_grid=param_grid, cv=cv_train, verbose=False)\n",
    "rf_CV.fit(x_train, y_train)\n",
    "print(rf_CV.best_params_)\n",
    "\n",
    "# Prediction for testing data\n",
    "y_test_rf = rf_CV.predict(x_test)\n",
    "\n",
    "# Accuracy of model\n",
    "r2_score_acc = round(r2_score(y_test, y_test_rf)*100,1)\n",
    "print(f'Accuracy of RandomForestRegressor model testing is {r2_score_accuracy}')\n",
    "\n",
    "# MSE and Save to result dataframe\n",
    "MSE = mean_squared_error(y_test,y_test_rf)\n",
    "print(f'mean_squared_error of Random Forest Regressor model testing is {MSE}')\n",
    "result.loc[result['model'] =='Random Forest Regressor',['r2_on_test','MSE']]= r2_score_accuracy,MSE"
   ]
  },
  {
   "cell_type": "markdown",
   "id": "2c74eae2",
   "metadata": {},
   "source": [
    "## check overfitting \n"
   ]
  },
  {
   "cell_type": "code",
   "execution_count": 35,
   "id": "7c17e35c",
   "metadata": {},
   "outputs": [
    {
     "name": "stdout",
     "output_type": "stream",
     "text": [
      "Accuracy of RandomForestRegressor model prediction for train dataset is 82.8\n"
     ]
    }
   ],
   "source": [
    "# Prediction for training data\n",
    "y_train_rf =rf_CV.predict(x_train)\n",
    "\n",
    "# Accuracy of model on train data\n",
    "r2_score_acc_train = round(r2_score(y_train, y_train_rf)*100,1)\n",
    "result.loc[result['model'] == 'Random Forest Regressor', 'r2_on_train'] = r2_score_acc_train\n",
    "print(f'Accuracy of RandomForestRegressor model prediction for train dataset is {r2_score_acc_train}')"
   ]
  },
  {
   "cell_type": "markdown",
   "id": "e1a9a874",
   "metadata": {},
   "source": [
    "## 6.5 XGBOOST"
   ]
  },
  {
   "cell_type": "code",
   "execution_count": 36,
   "id": "383c6220",
   "metadata": {},
   "outputs": [
    {
     "name": "stdout",
     "output_type": "stream",
     "text": [
      "{'colsample_bytree': 0.7, 'max_depth': 5, 'min_child_weight': 4, 'n_estimators': 500, 'subsample': 0.7}\n",
      "Accuracy of XGBRegressor model testing is 65.6\n",
      "mean_squared_error of XGBoost Regressor model  is 0.040013335000430444\n"
     ]
    }
   ],
   "source": [
    "xgb = XGBRegressor()\n",
    "param_grid = {'max_depth': [5, 6, 7],\n",
    "              'min_child_weight': [4],\n",
    "              'subsample': [0.7],\n",
    "              'colsample_bytree': [0.7],\n",
    "              'n_estimators': [500]}\n",
    "\n",
    "# Training model\n",
    "xgb_CV = GridSearchCV(xgb, param_grid=param_grid, cv=cv_train, verbose=False)\n",
    "xgb_CV.fit(x_train, y_train)\n",
    "print(xgb_CV.best_params_)\n",
    "\n",
    "# Prediction for testing  data\n",
    "y_test_xgb = xgb_CV.predict(x_test)\n",
    "\n",
    "# Accuracy of model\n",
    "r2_score_accuracy = round(r2_score(y_test, y_test_xgb)*100, 1)\n",
    "print(f'Accuracy of XGBRegressor model testing is {r2_score_accuracy}')\n",
    "\n",
    "# MSE and save to result dataframe \n",
    "MSE = mean_squared_error(y_test,y_test_rf)\n",
    "print(f'mean_squared_error of XGBoost Regressor model  is {MSE}')\n",
    "result.loc[result['model'] == 'XGBoost Regressor',['r2_on_test','MSE']]= r2_score_accuracy,MSE"
   ]
  },
  {
   "cell_type": "markdown",
   "id": "45337e37",
   "metadata": {},
   "source": [
    "## check overfitting"
   ]
  },
  {
   "cell_type": "code",
   "execution_count": 37,
   "id": "e31f0d4c",
   "metadata": {},
   "outputs": [
    {
     "name": "stdout",
     "output_type": "stream",
     "text": [
      "Accuracy of XGBRegressor model prediction for train dataset is 98.6\n"
     ]
    }
   ],
   "source": [
    "# Prediction for training data\n",
    "y_train_xgb = xgb_CV.predict(x_train)\n",
    "\n",
    "# Accuracy of model on train data \n",
    "\n",
    "r2_score_acc_train = round(r2_score(y_train, y_train_xgb)*100,1)\n",
    "result.loc[result['model'] == 'XGBoost Regressor', 'r2_on_train'] = r2_score_acc_train\n",
    "print(f'Accuracy of XGBRegressor model prediction for train dataset is {r2_score_acc_train}')"
   ]
  },
  {
   "cell_type": "markdown",
   "id": "4fbae1d1",
   "metadata": {},
   "source": [
    "## 6.6 Support vector regressor "
   ]
  },
  {
   "cell_type": "code",
   "execution_count": 38,
   "id": "e10610b0",
   "metadata": {},
   "outputs": [
    {
     "name": "stdout",
     "output_type": "stream",
     "text": [
      "Accuracy of Support vector regressor testing is 81.6\n",
      "mean_squared_error of Support vector regressor model  is 0.03773588231605045\n"
     ]
    },
    {
     "name": "stderr",
     "output_type": "stream",
     "text": [
      "C:\\Users\\DELL-PC\\anaconda3\\lib\\site-packages\\sklearn\\svm\\_classes.py:32: FutureWarning: The default value of `dual` will change from `True` to `'auto'` in 1.5. Set the value of `dual` explicitly to suppress the warning.\n",
      "  warnings.warn(\n"
     ]
    }
   ],
   "source": [
    "# Train the model\n",
    "SVR = LinearSVR()\n",
    "SVR_model = SVR.fit(x_train,y_train)\n",
    "\n",
    "# prediction for testing data \n",
    "y_test_svr = SVR_model.predict(x_test)\n",
    "\n",
    "# Accuracy of model \n",
    "r2_score_accuracy = round(r2_score(y_test, y_test_svr)*100, 1)\n",
    "print(f'Accuracy of Support vector regressor testing is {r2_score_accuracy}')\n",
    "\n",
    "# MSE and save to result dataframe \n",
    "MSE = mean_squared_error(y_test,y_test_svr)\n",
    "print(f'mean_squared_error of Support vector regressor model  is {MSE}')\n",
    "result.loc[result['model'] == 'Support vector regressor',['r2_on_test','MSE']]= r2_score_accuracy,MSE"
   ]
  },
  {
   "cell_type": "markdown",
   "id": "c7b5eddd",
   "metadata": {},
   "source": [
    "## Check Overfitting "
   ]
  },
  {
   "cell_type": "code",
   "execution_count": 39,
   "id": "991200b3",
   "metadata": {},
   "outputs": [
    {
     "name": "stdout",
     "output_type": "stream",
     "text": [
      "Accuracy of Support vector regressor model prediction for train dataset is 77.2\n"
     ]
    }
   ],
   "source": [
    "#Prediction on training data\n",
    "y_train_svr= SVR_model.predict(x_train)\n",
    "\n",
    "# Accuracy of model on training data \n",
    "r2_score_acc_train = round(r2_score(y_train,y_train_svr)*100,1)\n",
    "print(f'Accuracy of Support vector regressor model prediction for train dataset is {r2_score_acc_train}')\n",
    "# Save to dataframe \n",
    "result.loc[result['model'] == 'Support vector regressor', 'r2_on_train'] = r2_score_acc_train\n"
   ]
  },
  {
   "cell_type": "markdown",
   "id": "80a3bf1c",
   "metadata": {},
   "source": [
    "# 7. Model Comparision"
   ]
  },
  {
   "cell_type": "code",
   "execution_count": 40,
   "id": "5b41bb56",
   "metadata": {},
   "outputs": [
    {
     "data": {
      "text/html": [
       "<div>\n",
       "<style scoped>\n",
       "    .dataframe tbody tr th:only-of-type {\n",
       "        vertical-align: middle;\n",
       "    }\n",
       "\n",
       "    .dataframe tbody tr th {\n",
       "        vertical-align: top;\n",
       "    }\n",
       "\n",
       "    .dataframe thead th {\n",
       "        text-align: right;\n",
       "    }\n",
       "</style>\n",
       "<table border=\"1\" class=\"dataframe\">\n",
       "  <thead>\n",
       "    <tr style=\"text-align: right;\">\n",
       "      <th></th>\n",
       "      <th>model</th>\n",
       "      <th>r2_on_test</th>\n",
       "      <th>r2_on_train</th>\n",
       "      <th>MSE</th>\n",
       "    </tr>\n",
       "  </thead>\n",
       "  <tbody>\n",
       "    <tr>\n",
       "      <th>0</th>\n",
       "      <td>Linear Regression</td>\n",
       "      <td>80.7</td>\n",
       "      <td>79.7</td>\n",
       "      <td>0.039545</td>\n",
       "    </tr>\n",
       "    <tr>\n",
       "      <th>1</th>\n",
       "      <td>Linear Regression with transform data</td>\n",
       "      <td>87.5</td>\n",
       "      <td>83.7</td>\n",
       "      <td>0.132523</td>\n",
       "    </tr>\n",
       "    <tr>\n",
       "      <th>2</th>\n",
       "      <td>Decision Tree Regressor</td>\n",
       "      <td>82.8</td>\n",
       "      <td>87.4</td>\n",
       "      <td>0.035264</td>\n",
       "    </tr>\n",
       "    <tr>\n",
       "      <th>3</th>\n",
       "      <td>Random Forest Regressor</td>\n",
       "      <td>82.8</td>\n",
       "      <td>82.8</td>\n",
       "      <td>0.040013</td>\n",
       "    </tr>\n",
       "    <tr>\n",
       "      <th>4</th>\n",
       "      <td>XGBoost Regressor</td>\n",
       "      <td>65.6</td>\n",
       "      <td>98.6</td>\n",
       "      <td>0.040013</td>\n",
       "    </tr>\n",
       "    <tr>\n",
       "      <th>5</th>\n",
       "      <td>Support vector regressor</td>\n",
       "      <td>81.6</td>\n",
       "      <td>77.2</td>\n",
       "      <td>0.037736</td>\n",
       "    </tr>\n",
       "  </tbody>\n",
       "</table>\n",
       "</div>"
      ],
      "text/plain": [
       "                                   model  r2_on_test  r2_on_train       MSE\n",
       "0                      Linear Regression        80.7         79.7  0.039545\n",
       "1  Linear Regression with transform data        87.5         83.7  0.132523\n",
       "2                Decision Tree Regressor        82.8         87.4  0.035264\n",
       "3                Random Forest Regressor        82.8         82.8  0.040013\n",
       "4                      XGBoost Regressor        65.6         98.6  0.040013\n",
       "5               Support vector regressor        81.6         77.2  0.037736"
      ]
     },
     "execution_count": 40,
     "metadata": {},
     "output_type": "execute_result"
    }
   ],
   "source": [
    "result"
   ]
  },
  {
   "cell_type": "markdown",
   "id": "edf29fc8",
   "metadata": {},
   "source": [
    "**It can be seen from the result tabulation, that accuracy measures for the Linear Regression with transform data  is better than other model**"
   ]
  },
  {
   "cell_type": "code",
   "execution_count": null,
   "id": "212ecb05",
   "metadata": {},
   "outputs": [],
   "source": []
  }
 ],
 "metadata": {
  "kernelspec": {
   "display_name": "Python 3 (ipykernel)",
   "language": "python",
   "name": "python3"
  },
  "language_info": {
   "codemirror_mode": {
    "name": "ipython",
    "version": 3
   },
   "file_extension": ".py",
   "mimetype": "text/x-python",
   "name": "python",
   "nbconvert_exporter": "python",
   "pygments_lexer": "ipython3",
   "version": "3.10.9"
  }
 },
 "nbformat": 4,
 "nbformat_minor": 5
}
